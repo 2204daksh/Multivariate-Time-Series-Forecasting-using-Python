{
 "cells": [
  {
   "cell_type": "code",
   "execution_count": null,
   "id": "9776a117",
   "metadata": {},
   "outputs": [],
   "source": [
    "import pandas as pd"
   ]
  },
  {
   "cell_type": "code",
   "execution_count": null,
   "id": "74263acb",
   "metadata": {},
   "outputs": [],
   "source": [
    "# Loading the stocks data\n",
    "stocks_data = pd.read_csv(r\"C:\\Users\\daksh\\Desktop\\Project\\stocks.csv\")"
   ]
  },
  {
   "cell_type": "code",
   "execution_count": null,
   "id": "6e6326ed",
   "metadata": {},
   "outputs": [],
   "source": [
    "stocks_data.head()"
   ]
  },
  {
   "cell_type": "code",
   "execution_count": null,
   "id": "a9ed9cd6",
   "metadata": {},
   "outputs": [],
   "source": [
    "# Changing data type of date column to date time for analysis\n",
    "stocks_data['Date'] = pd.to_datetime(stocks_data['Date'])"
   ]
  },
  {
   "cell_type": "code",
   "execution_count": null,
   "id": "c1c01617",
   "metadata": {},
   "outputs": [],
   "source": [
    "# Calculating number of missing vaules in each column\n",
    "missing_values = stocks_data.isnull().sum()\n",
    "print(missing_values)"
   ]
  },
  {
   "cell_type": "code",
   "execution_count": null,
   "id": "bb36e759",
   "metadata": {},
   "outputs": [],
   "source": [
    "# Checking for number of unique stocks in teh dataset along with there count\n",
    "unique_stocks = stocks_data['Ticker'].value_counts()\n",
    "print(unique_stocks)"
   ]
  },
  {
   "cell_type": "code",
   "execution_count": null,
   "id": "a3b3d023",
   "metadata": {},
   "outputs": [],
   "source": [
    "# Calculating the time frame for the dataset\n",
    "time_range = stocks_data['Date'].min() , stocks_data['Date'].max()\n",
    "print(time_range)"
   ]
  },
  {
   "cell_type": "code",
   "execution_count": null,
   "id": "6744c15d",
   "metadata": {},
   "outputs": [],
   "source": [
    "# visualizing the closing prices trends of each stocks\n",
    "\n",
    "import matplotlib.pyplot as plt\n",
    "fig, ax = plt.subplots(figsize = (14,8))\n",
    "\n",
    "for ticker in unique_stocks.index:\n",
    "    subset = stocks_data[stocks_data['Ticker'] == ticker]\n",
    "    plt.plot(subset['Date'], subset['Close'], label = ticker)\n",
    "    \n",
    "ax.set_title('Closing Price Trends for AAPL, MSFT, NFLX, GOOG')\n",
    "ax.set_xlabel('Date')\n",
    "ax.set_ylabel('Closing Price(USD)')\n",
    "ax.legend()\n",
    "\n",
    "plt.show()"
   ]
  },
  {
   "cell_type": "code",
   "execution_count": null,
   "id": "8302d1bf",
   "metadata": {},
   "outputs": [],
   "source": [
    "from statsmodels.tsa.stattools import adfuller\n",
    "\n",
    "# function to perform Augmented Dickey-Fuller test\n",
    "def adf_test(series, title=''):\n",
    "    print(f'ADF Test on \"{title}\"')\n",
    "    result = adfuller(series, autolag='AIC')  # ADF test\n",
    "    labels = ['ADF Test Statistic', 'p-value', '#Lags Used', 'Number of Observations Used']\n",
    "    out = pd.Series(result[0:4], index=labels)\n",
    "\n",
    "    for key, value in result[4].items():\n",
    "        out[f'Critical Value ({key})'] = value\n",
    "    print(out.to_string()) \n",
    "    print('\\n')\n",
    "\n",
    "# perform ADF test on the 'Close' price of each stock\n",
    "for ticker in unique_stocks.index:\n",
    "    series = stocks_data[stocks_data['Ticker'] == ticker]['Close']\n",
    "    adf_test(series, title=ticker)"
   ]
  },
  {
   "cell_type": "code",
   "execution_count": null,
   "id": "f520ba62",
   "metadata": {},
   "outputs": [],
   "source": [
    "# differencing the 'Close' price of each stock to make the series stationary\n",
    "stocks_data['Diff_Close'] = stocks_data.groupby('Ticker')['Close'].transform(lambda x: x.diff())\n",
    "\n",
    "for ticker in unique_stocks.index:\n",
    "    series = stocks_data[stocks_data['Ticker'] == ticker]['Diff_Close'].dropna()\n",
    "    adf_test(series, title=f\"{ticker} - Differenced\")"
   ]
  },
  {
   "cell_type": "code",
   "execution_count": null,
   "id": "e73768f1",
   "metadata": {},
   "outputs": [],
   "source": [
    "# training the data model\n",
    "from statsmodels.tsa.vector_ar.var_model import VAR\n",
    "\n",
    "var_data = stocks_data.pivot(index='Date',columns='Ticker', values='Diff_Close').dropna()\n",
    "\n",
    "model = VAR (var_data)\n",
    "\n",
    "model_fitted = model.fit(ic= 'aic')\n",
    "\n",
    "forecast_steps = 5\n",
    "\n",
    "forecasted_values = model_fitted.forecast(var_data.values[-model_fitted.k_ar:], steps=forecast_steps)\n",
    "\n",
    "forecasted_df = pd.DataFrame(forecasted_values, index=pd.date_range(start=var_data.index[-1] + pd.Timedelta(days=1), periods=forecast_steps, freq='D'), columns=var_data.columns)\n",
    "\n",
    "for column in forecasted_df.columns:\n",
    "    forecasted_df[column] = (stocks_data.groupby('Ticker')['Close'].last()[column] + forecasted_df[column].cumsum())\n",
    "\n",
    "print(forecasted_df)"
   ]
  },
  {
   "cell_type": "code",
   "execution_count": null,
   "id": "4fa54c37",
   "metadata": {},
   "outputs": [],
   "source": [
    "fig, ax = plt.subplots(figsize=(14, 8))\n",
    "\n",
    "# plot historical closing prices for each stock\n",
    "for ticker in unique_stocks.index:\n",
    "    historical_data = stocks_data[stocks_data['Ticker'] == ticker]\n",
    "    ax.plot(historical_data['Date'], historical_data['Close'], label=ticker)\n",
    "\n",
    "# plot the forecasted closing prices\n",
    "for column in forecasted_df.columns:\n",
    "    ax.plot(forecasted_df.index, forecasted_df[column], label=f'{column} Forecast', linestyle='--')\n",
    "\n",
    "ax.set_title('Historical and Forecasted Closing Prices')\n",
    "ax.set_xlabel('Date')\n",
    "ax.set_ylabel('Closing Price (USD)')\n",
    "ax.legend()\n",
    "\n",
    "plt.xticks(rotation=45)\n",
    "plt.show()"
   ]
  },
  {
   "cell_type": "code",
   "execution_count": null,
   "id": "9b251142",
   "metadata": {},
   "outputs": [],
   "source": []
  }
 ],
 "metadata": {
  "kernelspec": {
   "display_name": "Python 3 (ipykernel)",
   "language": "python",
   "name": "python3"
  },
  "language_info": {
   "codemirror_mode": {
    "name": "ipython",
    "version": 3
   },
   "file_extension": ".py",
   "mimetype": "text/x-python",
   "name": "python",
   "nbconvert_exporter": "python",
   "pygments_lexer": "ipython3",
   "version": "3.11.5"
  }
 },
 "nbformat": 4,
 "nbformat_minor": 5
}
